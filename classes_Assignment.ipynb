{
 "cells": [
  {
   "cell_type": "markdown",
   "metadata": {},
   "source": [
    "#### Write a Python class named Circle constructed by a radius and two methods which will compute the area and the perimeter of a circle\n"
   ]
  },
  {
   "cell_type": "code",
   "execution_count": 1,
   "metadata": {},
   "outputs": [],
   "source": [
    "class Circle():\n",
    "    def __init__(self,radius):\n",
    "        self.radius = radius\n",
    "        \n",
    "    def cal_Area(self):\n",
    "        pi = 3.14\n",
    "        area = pi*(self.radius**2)\n",
    "        return area\n",
    "    \n",
    "    def cal_Circumference(self):\n",
    "        pi = 3.14\n",
    "        circumference = 2 * pi * self.radius\n",
    "        return circumference"
   ]
  },
  {
   "cell_type": "code",
   "execution_count": 2,
   "metadata": {},
   "outputs": [
    {
     "name": "stdout",
     "output_type": "stream",
     "text": [
      "the area of circle is:  12.56\n",
      "The circumference of circle is:  75.36\n"
     ]
    }
   ],
   "source": [
    "cir = Circle(2)\n",
    "area_of_circle = cir.cal_Area()\n",
    "print(\"the area of circle is: \",area_of_circle)\n",
    "\n",
    "circum = Circle(12)\n",
    "circumference_of_circle = circum.cal_Circumference()\n",
    "print(\"The circumference of circle is: \",circumference_of_circle)"
   ]
  },
  {
   "cell_type": "markdown",
   "metadata": {},
   "source": [
    "#### Write a Python class which has two methods get_String and print_String. get_String accept a string from the user and print_String print the string in upper case."
   ]
  },
  {
   "cell_type": "code",
   "execution_count": 3,
   "metadata": {},
   "outputs": [],
   "source": [
    "class String():\n",
    "    \n",
    "    \n",
    "    def get_String(self):\n",
    "            self.strng = input(\"enter a string:  \")\n",
    "    \n",
    "\n",
    "    \n",
    "    \n",
    "    def print_String(self):\n",
    "        upper_strng = self.strng.upper()\n",
    "        print(\"the string in uppercase is: \",upper_strng)\n",
    "        \n",
    "        "
   ]
  },
  {
   "cell_type": "code",
   "execution_count": 4,
   "metadata": {},
   "outputs": [
    {
     "name": "stdout",
     "output_type": "stream",
     "text": [
      "enter a string:  muhammad usman ali\n",
      "the string in uppercase is:  MUHAMMAD USMAN ALI\n"
     ]
    }
   ],
   "source": [
    "obj = String()\n",
    "obj.get_String()\n",
    "obj.print_String()"
   ]
  },
  {
   "cell_type": "markdown",
   "metadata": {},
   "source": [
    "#### Write a Python class to reverse a string word by word. - Go to the editor Input string : 'hello .py' Expected Output : '.py hello'"
   ]
  },
  {
   "cell_type": "code",
   "execution_count": 9,
   "metadata": {},
   "outputs": [],
   "source": [
    "class ReverseString():\n",
    "    \n",
    "    \n",
    "    def reverseString(self):\n",
    "            sentence = input(\"enter a sentence/string\")\n",
    "            str_len = len(sentence)\n",
    "            reverse_strng = sentence[str_len::-1]\n",
    "            return reverse_strng\n",
    "        \n",
    "    \n"
   ]
  },
  {
   "cell_type": "code",
   "execution_count": 11,
   "metadata": {},
   "outputs": [
    {
     "name": "stdout",
     "output_type": "stream",
     "text": [
      "enter a sentence/stringhello.py\n",
      "the reversed string word by word is:  yp.olleh\n"
     ]
    }
   ],
   "source": [
    "obj = ReverseString()\n",
    "Reversed_String = obj.reverseString()\n",
    "print(\"the reversed string word by word is: \",Reversed_String)"
   ]
  },
  {
   "cell_type": "code",
   "execution_count": null,
   "metadata": {},
   "outputs": [],
   "source": []
  }
 ],
 "metadata": {
  "kernelspec": {
   "display_name": "Python 3",
   "language": "python",
   "name": "python3"
  },
  "language_info": {
   "codemirror_mode": {
    "name": "ipython",
    "version": 3
   },
   "file_extension": ".py",
   "mimetype": "text/x-python",
   "name": "python",
   "nbconvert_exporter": "python",
   "pygments_lexer": "ipython3",
   "version": "3.7.3"
  }
 },
 "nbformat": 4,
 "nbformat_minor": 2
}
